{
 "cells": [
  {
   "cell_type": "markdown",
   "metadata": {},
   "source": [
    "# Problem: Order Processing System\n",
    "\n",
    "Design a small system to represent and validate customer orders.\n",
    "Each order includes customer details, a list of items, and a total amount.\n",
    "\n",
    "### Requirements\n",
    "\n",
    "1. Each item has a name, quantity, and price, \n",
    "    * Price and quantity must be positive.\n",
    "    * Price must be round to 2 decimal places.\n",
    "\n",
    "2. A customer has a \n",
    "    * name\n",
    "    * email address.\n",
    "\n",
    "3. An order has:\n",
    "\n",
    "    * a unique id\n",
    "\n",
    "    * one customer\n",
    "\n",
    "    * a list of items (must contain at least one)\n",
    "\n",
    "    * an optional discount code\n",
    "\n",
    "    * a declared total that must equal the sum of all item prices (minus 10% if discount applied)\n",
    "\n",
    "4. The system should:\n",
    "\n",
    "    * Round all prices to two decimals\n",
    "\n",
    "    * Validate the total price automatically\n",
    "\n",
    "    * Provide a computed property for total item count"
   ]
  },
  {
   "cell_type": "markdown",
   "metadata": {},
   "source": [
    "# Solution\n",
    "\n",
    "### 1. Defining the **Item** Model\n",
    "\n",
    "An Item represents a product with:\n",
    "* **name**: Item identifier (string)\n",
    "* **quantity**: Number of units (must be a positive integer)\n",
    "* **price**: Unit price (must be positive, automatically rounded to 2 decimal places)"
   ]
  },
  {
   "cell_type": "code",
   "execution_count": 1,
   "metadata": {},
   "outputs": [],
   "source": [
    "from pydantic import BaseModel, Field, PositiveInt, field_validator\n",
    "\n",
    "class Item(BaseModel):\n",
    "    \"\"\"\n",
    "    Represents a single item in an order.\n",
    "    \n",
    "    Attributes:\n",
    "        name: The item's name\n",
    "        quantity: Number of units (must be positive integer)\n",
    "        price: Unit price (must be positive, rounded to 2 decimals)\n",
    "    \"\"\"\n",
    "    name: str \n",
    "    quantity: int = PositiveInt  # Ensures quantity is a positive integer\n",
    "    price: float = Field(gt=0)   # Field with constraint: greater than 0\n",
    "    \n",
    "    @field_validator(\"price\")  # Custom validator runs after basic type validation\n",
    "    @classmethod\n",
    "    def round_price(cls, v):\n",
    "        \"\"\"Round price to 2 decimal places for consistency\"\"\"\n",
    "        return round(v, 2)"
   ]
  },
  {
   "cell_type": "code",
   "execution_count": 2,
   "metadata": {},
   "outputs": [
    {
     "name": "stdout",
     "output_type": "stream",
     "text": [
      "name='Apple' quantity=10 price=2.13\n"
     ]
    }
   ],
   "source": [
    "# Good Test: Valid item with price rounded to 2 decimal places\n",
    "try:\n",
    "    item_1 = Item(name=\"Apple\", quantity=10, price=2.1279)\n",
    "    print(item_1)\n",
    "    # Notice: price 2.1279 is automatically rounded to 2.13\n",
    "except Exception as e:\n",
    "    print(f\"Validation error: {e.json(indent=2)}\")"
   ]
  },
  {
   "cell_type": "code",
   "execution_count": 3,
   "metadata": {},
   "outputs": [
    {
     "name": "stdout",
     "output_type": "stream",
     "text": [
      "Validation error: [\n",
      "  {\n",
      "    \"type\": \"int_from_float\",\n",
      "    \"loc\": [\n",
      "      \"quantity\"\n",
      "    ],\n",
      "    \"msg\": \"Input should be a valid integer, got a number with a fractional part\",\n",
      "    \"input\": -1.5,\n",
      "    \"url\": \"https://errors.pydantic.dev/2.12/v/int_from_float\"\n",
      "  },\n",
      "  {\n",
      "    \"type\": \"greater_than\",\n",
      "    \"loc\": [\n",
      "      \"price\"\n",
      "    ],\n",
      "    \"msg\": \"Input should be greater than 0\",\n",
      "    \"input\": -5,\n",
      "    \"ctx\": {\n",
      "      \"gt\": 0.0\n",
      "    },\n",
      "    \"url\": \"https://errors.pydantic.dev/2.12/v/greater_than\"\n",
      "  }\n",
      "]\n"
     ]
    }
   ],
   "source": [
    "# Bad Test: Invalid item with negative quantity and price\n",
    "try:\n",
    "    item_2 = Item(name=\"Huy\", quantity=-1.5, price=-5)\n",
    "    print(item_2)\n",
    "except Exception as e:\n",
    "    # Pydantic catches multiple validation errors:\n",
    "    # 1. quantity must be integer (not float with fractional part)\n",
    "    # 2. price must be greater than 0\n",
    "    print(f\"Validation error: {e.json(indent=2)}\")"
   ]
  },
  {
   "cell_type": "code",
   "execution_count": 4,
   "metadata": {},
   "outputs": [],
   "source": [
    "from pydantic import EmailStr\n",
    "\n",
    "class Customer(BaseModel):\n",
    "    \"\"\"\n",
    "    Represents a customer in the order system.\n",
    "    \n",
    "    Attributes:\n",
    "        name: Customer's full name\n",
    "        email: Email address (validated for proper format)\n",
    "    \"\"\"\n",
    "    name: str\n",
    "    email: EmailStr  # Automatically validates email format (requires @ symbol, domain, etc.)"
   ]
  },
  {
   "cell_type": "markdown",
   "metadata": {},
   "source": [
    "### 2. Defining the **Customer** Model\n",
    "\n",
    "A Customer represents a buyer with:\n",
    "* **name**: Customer's full name\n",
    "* **email**: Email address (automatically validated for correct format)"
   ]
  },
  {
   "cell_type": "code",
   "execution_count": 5,
   "metadata": {},
   "outputs": [
    {
     "name": "stdout",
     "output_type": "stream",
     "text": [
      "name='Huy' email='example@mail.com'\n"
     ]
    }
   ],
   "source": [
    "# Good Test: Valid customer with properly formatted email\n",
    "try:\n",
    "    customer_1 = Customer(name=\"Huy\", email=\"example@mail.com\")\n",
    "    print(customer_1)\n",
    "except Exception as e:\n",
    "    print(f\"Validation error: {e.json(indent=2)}\")"
   ]
  },
  {
   "cell_type": "code",
   "execution_count": 6,
   "metadata": {},
   "outputs": [
    {
     "name": "stdout",
     "output_type": "stream",
     "text": [
      "Validation error: [\n",
      "  {\n",
      "    \"type\": \"value_error\",\n",
      "    \"loc\": [\n",
      "      \"email\"\n",
      "    ],\n",
      "    \"msg\": \"value is not a valid email address: An email address must have an @-sign.\",\n",
      "    \"input\": \"example.com\",\n",
      "    \"ctx\": {\n",
      "      \"reason\": \"An email address must have an @-sign.\"\n",
      "    },\n",
      "    \"url\": \"https://errors.pydantic.dev/2.12/v/value_error\"\n",
      "  }\n",
      "]\n"
     ]
    }
   ],
   "source": [
    "# Bad Test: Invalid email without @ symbol\n",
    "try:\n",
    "    customer_2 = Customer(name=\"Huy\", email=\"example.com\")\n",
    "    print(customer_2)\n",
    "except Exception as e:\n",
    "    # EmailStr validation catches missing @ symbol\n",
    "    print(f\"Validation error: {e.json(indent=2)}\")"
   ]
  },
  {
   "cell_type": "markdown",
   "metadata": {},
   "source": [
    "### 3. Defining the **Order** Model\n",
    "\n",
    "An Order represents a complete transaction with:\n",
    "* **id**: Unique order identifier (positive integer)\n",
    "* **customer**: Customer name\n",
    "* **items**: List of items (must contain at least one item)\n",
    "* **discount_code**: Optional discount code (10% off when provided)\n",
    "* **total**: Declared total amount (validated against calculated subtotal)\n",
    "\n",
    "**Computed Properties:**\n",
    "* **item_count**: Automatically calculated total quantity of all items\n",
    "\n",
    "**Validation:**\n",
    "* Verifies the declared total matches the calculated total (with discount applied if applicable)"
   ]
  },
  {
   "cell_type": "code",
   "execution_count": 7,
   "metadata": {},
   "outputs": [],
   "source": [
    "from pydantic import computed_field, model_validator\n",
    "from typing import Optional\n",
    "\n",
    "class Order(BaseModel):\n",
    "    \"\"\"\n",
    "    Represents a customer order with automatic total validation.\n",
    "    \n",
    "    Attributes:\n",
    "        id: Unique order identifier\n",
    "        customer: Customer name\n",
    "        items: List of items (minimum 1 required)\n",
    "        discount_code: Optional discount code (applies 10% discount)\n",
    "        total: Declared total (must match calculated subtotal)\n",
    "    \"\"\"\n",
    "    id: PositiveInt\n",
    "    customer: str\n",
    "    items: list[Item] = Field(min_length=1)  # Require at least one item\n",
    "    discount_code: str | None = None         # Optional discount code\n",
    "    total: float                             # User-supplied total (will be validated)\n",
    "\n",
    "    @computed_field\n",
    "    @property\n",
    "    def item_count(self) -> int:\n",
    "        \"\"\"\n",
    "        Computed property: Total quantity of all items in the order.\n",
    "        This field is automatically included when serializing the model.\n",
    "        \"\"\"\n",
    "        return sum(i.quantity for i in self.items)\n",
    "\n",
    "    @model_validator(mode=\"after\")\n",
    "    def check_total(self):\n",
    "        \"\"\"\n",
    "        Validates that the declared total matches the calculated subtotal.\n",
    "        Runs after all fields have been validated and the model is constructed.\n",
    "        \n",
    "        Calculation:\n",
    "        1. Sum all (price x quantity) for each item\n",
    "        2. If discount_code exists, apply 10% discount (multiply by 0.9)\n",
    "        3. Compare with declared total (rounded to 2 decimals)\n",
    "        \"\"\"\n",
    "        subtotal = sum(i.price * i.quantity for i in self.items)\n",
    "        if self.discount_code:\n",
    "            subtotal = round(subtotal * 0.9, 2)\n",
    "        if round(subtotal, 2) != round(self.total, 2):\n",
    "            raise ValueError(f\"Total mismatch: expected {subtotal:.2f}, got {self.total:.2f}\")\n",
    "        return self"
   ]
  },
  {
   "cell_type": "code",
   "execution_count": 8,
   "metadata": {},
   "outputs": [
    {
     "name": "stdout",
     "output_type": "stream",
     "text": [
      "id=1 customer='John Doe' items=[Item(name='Apple', quantity=3, price=1.5), Item(name='Banana', quantity=6, price=0.5)] discount_code=None total=7.5 item_count=9\n",
      "****************************************\n",
      "Item count: 9\n"
     ]
    }
   ],
   "source": [
    "# Good Test: Valid order without discount\n",
    "try:\n",
    "    order_1 = Order(\n",
    "        id=1,\n",
    "        customer=\"John Doe\",\n",
    "        items=[\n",
    "            Item(name=\"Apple\", quantity=3, price=1.5),\n",
    "            Item(name=\"Banana\", quantity=6, price=0.5)\n",
    "        ],\n",
    "        discount_code=None,  # No discount code provided\n",
    "        total=7.5  # Subtotal: (3×1.5) + (6×0.5) = 4.5 + 3.0 = 7.5\n",
    "    )\n",
    "    print(order_1)\n",
    "    print(\"*\" * 40)\n",
    "    print(f\"Item count: {order_1.item_count}\")  # Total quantity: 3 + 6 = 9\n",
    "\n",
    "except Exception as e:\n",
    "    print(e.json(indent=4))"
   ]
  },
  {
   "cell_type": "code",
   "execution_count": 9,
   "metadata": {},
   "outputs": [
    {
     "name": "stdout",
     "output_type": "stream",
     "text": [
      "[\n",
      "    {\n",
      "        \"type\": \"too_short\",\n",
      "        \"loc\": [\n",
      "            \"items\"\n",
      "        ],\n",
      "        \"msg\": \"List should have at least 1 item after validation, not 0\",\n",
      "        \"input\": [],\n",
      "        \"ctx\": {\n",
      "            \"field_type\": \"List\",\n",
      "            \"min_length\": 1,\n",
      "            \"actual_length\": 0\n",
      "        },\n",
      "        \"url\": \"https://errors.pydantic.dev/2.12/v/too_short\"\n",
      "    }\n",
      "]\n"
     ]
    }
   ],
   "source": [
    "# Bad Test: Order with empty items list\n",
    "try:\n",
    "    order_2 = Order(\n",
    "        id=1,\n",
    "        customer=\"John Doe\",\n",
    "        items=[],  # Invalid: at least one item is required\n",
    "        total=9\n",
    "    )\n",
    "    print(order_2)\n",
    "except Exception as e:\n",
    "    # Pydantic catches that items list doesn't meet min_length=1 requirement\n",
    "    print(e.json(indent=4))"
   ]
  },
  {
   "cell_type": "code",
   "execution_count": 10,
   "metadata": {},
   "outputs": [
    {
     "name": "stdout",
     "output_type": "stream",
     "text": [
      "[\n",
      "    {\n",
      "        \"type\": \"value_error\",\n",
      "        \"loc\": [],\n",
      "        \"msg\": \"Value error, Total mismatch: expected 6.75, got 9.00\",\n",
      "        \"input\": {\n",
      "            \"id\": 1,\n",
      "            \"customer\": \"John Doe\",\n",
      "            \"items\": [\n",
      "                {\n",
      "                    \"name\": \"Apple\",\n",
      "                    \"quantity\": 3,\n",
      "                    \"price\": 1.5\n",
      "                },\n",
      "                {\n",
      "                    \"name\": \"Banana\",\n",
      "                    \"quantity\": 6,\n",
      "                    \"price\": 0.5\n",
      "                }\n",
      "            ],\n",
      "            \"discount_code\": \"SUMMER10\",\n",
      "            \"total\": 9\n",
      "        },\n",
      "        \"ctx\": {\n",
      "            \"error\": \"Total mismatch: expected 6.75, got 9.00\"\n",
      "        },\n",
      "        \"url\": \"https://errors.pydantic.dev/2.12/v/value_error\"\n",
      "    }\n",
      "]\n"
     ]
    }
   ],
   "source": [
    "# Bad Test: Order with incorrect total (when discount is applied)\n",
    "try:\n",
    "    order_3 = Order(\n",
    "        id=1,\n",
    "        customer=\"John Doe\",\n",
    "        items=[\n",
    "            Item(name=\"Apple\", quantity=3, price=1.5),\n",
    "            Item(name=\"Banana\", quantity=6, price=0.5)\n",
    "        ],\n",
    "        discount_code=\"SUMMER10\",  # 10% discount applied\n",
    "        total=9  # Incorrect! Should be 7.5 × 0.9 = 6.75\n",
    "    )\n",
    "    print(order_3)\n",
    "    print(\"*\" * 40)\n",
    "    print(f\"Item count: {order_3.item_count}\")\n",
    "except Exception as e:\n",
    "    # model_validator catches mismatch between declared total and calculated total\n",
    "    # Calculation: Subtotal = 7.5, with discount = 7.5 × 0.9 = 6.75 (not 9)\n",
    "    print(e.json(indent=4))"
   ]
  },
  {
   "cell_type": "markdown",
   "metadata": {},
   "source": [
    "# Model Serialization\n",
    "\n",
    "## Serializing Models (Converting to JSON)\n",
    "\n",
    "Pydantic provides two methods for serialization:\n",
    "\n",
    "1. **`model_dump()`**: Returns a Python dictionary\n",
    "   - Use when you need to work with the data in Python\n",
    "   - Easy to manipulate, pass to other functions, or convert to other formats\n",
    "\n",
    "2. **`model_dump_json()`**: Returns a JSON string\n",
    "   - Use when you need to save to disk, send over API, or store in database\n",
    "   - Already formatted and ready for transmission"
   ]
  },
  {
   "cell_type": "code",
   "execution_count": 11,
   "metadata": {},
   "outputs": [
    {
     "name": "stdout",
     "output_type": "stream",
     "text": [
      "<class 'dict'>\n"
     ]
    },
    {
     "data": {
      "text/plain": [
       "{'id': 1,\n",
       " 'customer': 'John Doe',\n",
       " 'items': [{'name': 'Apple', 'quantity': 3, 'price': 1.5},\n",
       "  {'name': 'Banana', 'quantity': 6, 'price': 0.5}],\n",
       " 'discount_code': None,\n",
       " 'total': 7.5,\n",
       " 'item_count': 9}"
      ]
     },
     "execution_count": 11,
     "metadata": {},
     "output_type": "execute_result"
    }
   ],
   "source": [
    "# Serialize to Python dictionary\n",
    "a = order_1.model_dump()\n",
    "print(type(a))  # <class 'dict'>\n",
    "a  # Notice: item_count is included (computed field)"
   ]
  },
  {
   "cell_type": "code",
   "execution_count": 12,
   "metadata": {},
   "outputs": [
    {
     "name": "stdout",
     "output_type": "stream",
     "text": [
      "<class 'str'>\n"
     ]
    },
    {
     "data": {
      "text/plain": [
       "'{\"id\":1,\"customer\":\"John Doe\",\"items\":[{\"name\":\"Apple\",\"quantity\":3,\"price\":1.5},{\"name\":\"Banana\",\"quantity\":6,\"price\":0.5}],\"discount_code\":null,\"total\":7.5,\"item_count\":9}'"
      ]
     },
     "execution_count": 12,
     "metadata": {},
     "output_type": "execute_result"
    }
   ],
   "source": [
    "# Serialize to JSON string\n",
    "b = order_1.model_dump_json()\n",
    "print(type(b))  # <class 'str'>\n",
    "b  # Ready to save to file or send via API"
   ]
  },
  {
   "cell_type": "markdown",
   "metadata": {},
   "source": [
    "## Deserializing Models (Loading Back)\n",
    "\n",
    "Pydantic provides corresponding methods for deserialization:\n",
    "\n",
    "1. **`model_validate(dict)`**: Creates a model instance from a Python dictionary\n",
    "2. **`model_validate_json(json_str)`**: Creates a model instance from a JSON string\n",
    "\n",
    "Both methods perform full validation, ensuring data integrity."
   ]
  },
  {
   "cell_type": "code",
   "execution_count": 13,
   "metadata": {},
   "outputs": [
    {
     "data": {
      "text/plain": [
       "Order(id=1, customer='John Doe', items=[Item(name='Apple', quantity=3, price=1.5), Item(name='Banana', quantity=6, price=0.5)], discount_code=None, total=7.5, item_count=9)"
      ]
     },
     "execution_count": 13,
     "metadata": {},
     "output_type": "execute_result"
    }
   ],
   "source": [
    "# Deserialize from Python dictionary\n",
    "# All validations run again to ensure data integrity\n",
    "Order.model_validate(a)"
   ]
  },
  {
   "cell_type": "code",
   "execution_count": 14,
   "metadata": {},
   "outputs": [
    {
     "data": {
      "text/plain": [
       "Order(id=1, customer='John Doe', items=[Item(name='Apple', quantity=3, price=1.5), Item(name='Banana', quantity=6, price=0.5)], discount_code=None, total=7.5, item_count=9)"
      ]
     },
     "execution_count": 14,
     "metadata": {},
     "output_type": "execute_result"
    }
   ],
   "source": [
    "# Deserialize from JSON string\n",
    "# Parses JSON and validates all fields\n",
    "Order.model_validate_json(b)"
   ]
  },
  {
   "cell_type": "markdown",
   "metadata": {},
   "source": [
    "# Key Concepts Summary\n",
    "\n",
    "## Validation Tools\n",
    "\n",
    "1. **Built-in Validators** (Quick validation without custom code):\n",
    "   - `Field(gt=0)`: Greater than constraint\n",
    "   - `Field(min_length=1)`: Minimum list/string length\n",
    "   - `PositiveInt`: Ensures positive integers\n",
    "   - `EmailStr`: Validates email format\n",
    "\n",
    "2. **`@field_validator(field_name)`**: Custom field validation\n",
    "   - Runs **after** basic type validation\n",
    "   - **MUST** be a `@classmethod`\n",
    "   - Receives the field value, returns the processed value\n",
    "   - Use for custom transformations (e.g., rounding, formatting)\n",
    "\n",
    "3. **`@model_validator(mode=\"after\")`**: Cross-field validation\n",
    "   - Runs **after** all fields are validated and the model is constructed\n",
    "   - **MUST NOT** be a classmethod (use `self` to access fields)\n",
    "   - Receives the complete model instance\n",
    "   - Use for validations that depend on multiple fields (e.g., total calculation)\n",
    "\n",
    "4. **`@computed_field`**: Computed properties\n",
    "   - Adds calculated fields to the model\n",
    "   - Automatically included when serializing (dump)\n",
    "   - Acts like a read-only property\n",
    "   - Use for derived values (e.g., item count, subtotals)\n",
    "\n",
    "## Important Notes on Validators\n",
    "\n",
    "**Common Confusion:**\n",
    "\n",
    "```python\n",
    "@field_validator(\"price\")          # MUST be @classmethod\n",
    "@classmethod\n",
    "def validate_price(cls, v):\n",
    "    return round(v, 2)\n",
    "\n",
    "@model_validator(mode=\"before\")    # MUST be @classmethod\n",
    "@classmethod\n",
    "def validate_before(cls, data):\n",
    "    return data\n",
    "\n",
    "@model_validator(mode=\"after\")     # MUST NOT be @classmethod (use self)\n",
    "def validate_after(self):\n",
    "    # Can access self.field_name\n",
    "    return self\n",
    "```\n",
    "\n",
    "## Serialization/Deserialization Flow\n",
    "\n",
    "```\n",
    "Model Instance → model_dump() → Python Dict\n",
    "              → model_dump_json() → JSON String\n",
    "\n",
    "Python Dict → model_validate() → Model Instance\n",
    "JSON String → model_validate_json() → Model Instance\n",
    "```"
   ]
  }
 ],
 "metadata": {
  "kernelspec": {
   "display_name": ".venv",
   "language": "python",
   "name": "python3"
  },
  "language_info": {
   "codemirror_mode": {
    "name": "ipython",
    "version": 3
   },
   "file_extension": ".py",
   "mimetype": "text/x-python",
   "name": "python",
   "nbconvert_exporter": "python",
   "pygments_lexer": "ipython3",
   "version": "3.11.5"
  }
 },
 "nbformat": 4,
 "nbformat_minor": 2
}
